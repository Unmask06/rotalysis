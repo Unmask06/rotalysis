{
 "cells": [
  {
   "cell_type": "code",
   "execution_count": null,
   "metadata": {},
   "outputs": [],
   "source": [
    "from rotalysis.pump.pump_function import PumpFunction as pf\n",
    "import pandas as pd\n",
    "from rotalysis import definitions as defs\n",
    "from pathlib import Path"
   ]
  },
  {
   "cell_type": "code",
   "execution_count": null,
   "metadata": {},
   "outputs": [],
   "source": [
    "rated_flow = 100\n",
    "rated_head = 1000\n",
    "rated_speed = 3000\n",
    "rated_efficeincy = 0.7"
   ]
  },
  {
   "cell_type": "code",
   "execution_count": null,
   "metadata": {},
   "outputs": [],
   "source": [
    "pf.get_pump_efficiency(rated_flow, rated_efficeincy, 80)"
   ]
  },
  {
   "cell_type": "code",
   "execution_count": null,
   "metadata": {},
   "outputs": [],
   "source": [
    "df = pd.DataFrame(\n",
    "    columns=[\n",
    "        defs.ComputedVariables.FLOWRATE_PERCENT,\n",
    "        defs.ComputedVariables.OLD_PUMP_EFFICIENCY,\n",
    "    ],\n",
    "    data=[\n",
    "        {\n",
    "            defs.ComputedVariables.FLOWRATE_PERCENT: n,\n",
    "            defs.ComputedVariables.OLD_PUMP_EFFICIENCY: 0,\n",
    "        }\n",
    "        for n in range(30, 101, 10)\n",
    "    ],\n",
    ")\n",
    "df"
   ]
  },
  {
   "cell_type": "code",
   "execution_count": null,
   "metadata": {},
   "outputs": [],
   "source": [
    "df[defs.PumpOperationVariables.DISCHARGE_FLOWRATE] = (\n",
    "    df[defs.ComputedVariables.FLOWRATE_PERCENT] * rated_flow / 100\n",
    ")\n",
    "df"
   ]
  },
  {
   "cell_type": "code",
   "execution_count": null,
   "metadata": {},
   "outputs": [],
   "source": [
    "df[defs.ComputedVariables.OLD_PUMP_EFFICIENCY] = df.apply(\n",
    "    lambda x: pf.get_pump_efficiency(\n",
    "        rated_flow, rated_efficeincy, x[defs.PumpOperationVariables.DISCHARGE_FLOWRATE]\n",
    "    ),\n",
    "    axis=1,\n",
    ")"
   ]
  },
  {
   "cell_type": "code",
   "execution_count": null,
   "metadata": {},
   "outputs": [],
   "source": [
    "df"
   ]
  },
  {
   "cell_type": "code",
   "execution_count": null,
   "metadata": {},
   "outputs": [],
   "source": [
    "str(Path(\"data/input.xlsx\").resolve())"
   ]
  },
  {
   "cell_type": "code",
   "execution_count": null,
   "metadata": {},
   "outputs": [],
   "source": [
    "input_xl = pd.ExcelFile(str(Path(\"data/input.xlsx\").resolve()))\n",
    "pump_curve = pd.read_excel(\n",
    "    input_xl,\n",
    "    sheet_name=defs.InputSheetNames.PUMP_CURVE,\n",
    "    usecols=\"E:F\",\n",
    "    header=2,\n",
    ")\n",
    "pump_curve.dropna(inplace=True)\n",
    "pump_curve.rename(columns={\"flow.1\": \"flow\", \"head.1\": \"head\"}, inplace=True)\n",
    "pump_curve"
   ]
  },
  {
   "cell_type": "code",
   "execution_count": null,
   "metadata": {},
   "outputs": [],
   "source": [
    "from plotly import graph_objects as go"
   ]
  },
  {
   "cell_type": "code",
   "execution_count": null,
   "metadata": {},
   "outputs": [],
   "source": [
    "fig = go.Figure()\n",
    "fig.add_trace(\n",
    "    go.Scatter(\n",
    "        x=pump_curve[\"flow\"],\n",
    "        y=pump_curve[\"head\"],\n",
    "        mode=\"lines\",\n",
    "        name=\"Pump Curve\",\n",
    "    )\n",
    ")\n",
    "fig.update_layout(\n",
    "    title=\"Pump Curve\",\n",
    "    xaxis=dict(\n",
    "        title=\"Flowrate\",\n",
    "        range=[0, 900],  # Set the upper and lower range for the x-axis\n",
    "    ),\n",
    "    yaxis=dict(title=dict(text=\"Head\"), range=[0, 900]),\n",
    ")\n",
    "fig.show()"
   ]
  },
  {
   "cell_type": "code",
   "execution_count": null,
   "metadata": {},
   "outputs": [],
   "source": [
    "import numpy as np\n",
    "import matplotlib.pyplot as plt\n",
    "\n",
    "# Given data\n",
    "flow_rate = 500  # m³/h\n",
    "head_at_flow_rate = 50  # m\n",
    "head_noflow = 20  # m\n",
    "\n",
    "# Convert flow rate from m³/h to m³/s for calculation consistency in some contexts\n",
    "flow_rate_m3_s = flow_rate / 3600\n",
    "\n",
    "# Calculate k using the operating point\n",
    "k = (head_at_flow_rate - head_noflow) / (flow_rate_m3_s**2)\n",
    "\n",
    "# Generate flow rates from 0 to 600 m³/h for plotting\n",
    "flow_rates = np.linspace(0, 600, 100)  # m³/h\n",
    "flow_rates_m3_s = flow_rates / 3600  # Convert to m³/s for calculation\n",
    "\n",
    "# Calculate the heads for each flow rate\n",
    "heads = head_noflow + k * (flow_rates_m3_s**2)\n",
    "\n",
    "# Plotting\n",
    "plt.figure(figsize=(10, 6))\n",
    "plt.plot(flow_rates, heads, label=\"System Curve\", color=\"blue\")\n",
    "plt.scatter(\n",
    "    flow_rate, head_at_flow_rate, color=\"red\", label=\"Operating Point (500 m³/h, 50 m)\"\n",
    ")\n",
    "plt.title(\"Pump System Curve\")\n",
    "plt.xlabel(\"Flow Rate (m³/h)\")\n",
    "plt.ylabel(\"Head (m)\")\n",
    "plt.legend()\n",
    "plt.grid(True)\n",
    "plt.show()"
   ]
  },
  {
   "cell_type": "code",
   "execution_count": null,
   "metadata": {},
   "outputs": [],
   "source": [
    "def calculate_system_curve(flow_rate_m3_h, head_at_flow_rate, static_head):\n",
    "    \"\"\"\n",
    "    Calculate the pump system curve equation from a given operating point and static head.\n",
    "\n",
    "    Parameters:\n",
    "    - flow_rate_m3_h: The flow rate at the operating point in cubic meters per hour (m³/h).\n",
    "    - head_at_flow_rate: The head at the operating point in meters (m).\n",
    "    - static_head: The static head in meters (m).\n",
    "\n",
    "    Returns:\n",
    "    - k: The constant for the system curve equation.\n",
    "    - system_curve_eq: A function that calculates the head (H) for any given flow rate in m³/h.\n",
    "    \"\"\"\n",
    "    # Convert flow rate from m³/h to m³/s for calculation consistency\n",
    "    flow_rate_m3_s = flow_rate_m3_h / 3600\n",
    "\n",
    "    # Calculate k using the operating point\n",
    "    k = (head_at_flow_rate - static_head) / (flow_rate_m3_s**2)\n",
    "\n",
    "    # Define the system curve equation\n",
    "    def system_curve_eq(flow_rate_m3_h):\n",
    "        flow_rate_m3_s = flow_rate_m3_h / 3600\n",
    "        return static_head + k * (flow_rate_m3_s**2)\n",
    "\n",
    "    return k, system_curve_eq\n",
    "\n",
    "\n",
    "# Example usage\n",
    "k, quad_curve = calculate_system_curve(500, 50, 20)\n",
    "\n",
    "# Print the system curve equation for a range of flow rates\n",
    "flow_rates = [0, 100, 200, 300, 400, 500, 600]\n",
    "head_values = [quad_curve(q) for q in flow_rates]\n",
    "for q, h in zip(flow_rates, head_values):\n",
    "    print(f\"Flow Rate: {q} m³/h, Head: {h:.2f} m\")"
   ]
  },
  {
   "cell_type": "markdown",
   "metadata": {},
   "source": [
    "SymPy Trail"
   ]
  },
  {
   "cell_type": "code",
   "execution_count": null,
   "metadata": {},
   "outputs": [],
   "source": [
    "from sympy import symbols, Eq, solve, init_printing, Function, plot"
   ]
  },
  {
   "cell_type": "code",
   "execution_count": null,
   "metadata": {},
   "outputs": [],
   "source": [
    "# Define the flow rate as a symbol\n",
    "Q, H = symbols(\"Q H\")\n",
    "a, b, c = (0.01, 0, 3)\n",
    "expr = a * Q**2 + b * Q + c\n",
    "sytem_curve_eq = Eq(expr, H)\n",
    "plot(expr, (Q, 0, 600))"
   ]
  },
  {
   "cell_type": "code",
   "execution_count": null,
   "metadata": {},
   "outputs": [],
   "source": [
    "from sympy import symbols, Eq, solve, plot, evalf\n",
    "\n",
    "# Define the symbols and constants\n",
    "Q, H = symbols(\"Q H\")\n",
    "a = symbols(\"a\")\n",
    "b, c = (0, 3)\n",
    "\n",
    "# Define the expression\n",
    "expr = a * Q**2 + b * Q + c\n",
    "system_curve_eq = Eq(expr, H)\n",
    "\n",
    "# Plotting the equation from Q = 0 to Q = 600 (using an example value for a since a is not specified)\n",
    "example_a = 1  # example coefficient for a\n",
    "plot_expr = expr.subs(a, example_a)\n",
    "p = plot(\n",
    "    plot_expr,\n",
    "    (Q, 0, 600),\n",
    "    show=False,\n",
    "    title=f\"(System Curve for {expr})\",\n",
    "    ylabel=\"H\",\n",
    "    xlabel=\"Q\",\n",
    ")\n",
    "p.show()\n",
    "\n",
    "# Solve the equation for a given H=2000 and Q=500\n",
    "knowns = {Q: 500, H: 2000}\n",
    "solve_for_a = solve(system_curve_eq.subs(knowns), a)"
   ]
  },
  {
   "cell_type": "code",
   "execution_count": null,
   "metadata": {},
   "outputs": [],
   "source": [
    "import numpy as np\n",
    "from scipy.optimize import fsolve\n",
    "from plotly import graph_objects as go"
   ]
  },
  {
   "cell_type": "code",
   "execution_count": null,
   "metadata": {},
   "outputs": [],
   "source": [
    "from scipy.optimize import fsolve\n",
    "\n",
    "\n",
    "# Define the system curve function\n",
    "def quad_curve(flow, head, static_head, a, b):\n",
    "    return (a * flow**2) + (b * flow) + static_head - head\n",
    "\n",
    "\n",
    "# Function for fsolve\n",
    "def equation_to_solve(a):\n",
    "    return quad_curve(500, 2000, 20, a, 10)  # Plugging in the given values\n",
    "\n",
    "\n",
    "# Solve for a using fsolve with an initial guess\n",
    "a_solution = fsolve(equation_to_solve, x0=0)  # Initial guess for a\n",
    "print(a_solution)"
   ]
  },
  {
   "cell_type": "code",
   "execution_count": null,
   "metadata": {},
   "outputs": [],
   "source": [
    "def equation_to_solve(b):\n",
    "    return quad_curve(500, 2000, 20, -0.01208, b)\n",
    "\n",
    "\n",
    "b_solution = fsolve(equation_to_solve, x0=0)\n",
    "b_solution"
   ]
  },
  {
   "cell_type": "code",
   "execution_count": null,
   "metadata": {},
   "outputs": [],
   "source": [
    "def quad_curve(flow, head, head_noflow, a, b=0):\n",
    "    return (a * flow**2) + (b * flow) + head_noflow - head"
   ]
  },
  {
   "cell_type": "code",
   "execution_count": null,
   "metadata": {},
   "outputs": [],
   "source": [
    "rated_flow, rated_head, shutoff_head = (100, 1000, 1300)"
   ]
  },
  {
   "cell_type": "code",
   "execution_count": null,
   "metadata": {},
   "outputs": [],
   "source": [
    "def pump_curve(a):\n",
    "    return quad_curve(rated_flow, rated_head, shutoff_head, a, 0)"
   ]
  },
  {
   "cell_type": "code",
   "execution_count": null,
   "metadata": {},
   "outputs": [],
   "source": [
    "a_solution = fsolve(pump_curve, x0=0)\n",
    "a_solution"
   ]
  },
  {
   "cell_type": "code",
   "execution_count": null,
   "metadata": {},
   "outputs": [],
   "source": [
    "def pump_curve_eq(flow, shutoff_head, a, b=0):\n",
    "    return (a * flow**2) + (b * flow) + shutoff_head"
   ]
  },
  {
   "cell_type": "code",
   "execution_count": null,
   "metadata": {},
   "outputs": [],
   "source": [
    "h = pump_curve_eq([100, 200], 1300, -0.03)\n",
    "h\n"
   ]
  },
  {
   "cell_type": "code",
   "execution_count": 36,
   "metadata": {},
   "outputs": [],
   "source": [
    "import numpy as np\n",
    "from scipy.optimize import fsolve, curve_fit\n",
    "from plotly import graph_objects as go"
   ]
  },
  {
   "cell_type": "code",
   "execution_count": 37,
   "metadata": {},
   "outputs": [],
   "source": [
    "def head_curve(flow, a, b=0, noflow_head=0):\n",
    "    if isinstance(flow, (int, float)):\n",
    "        return (a * flow**2) + (b * flow) + noflow_head\n",
    "    if isinstance(flow, (list, np.ndarray)):\n",
    "        return [(a * q**2) + (b * q) + noflow_head for q in flow]"
   ]
  },
  {
   "cell_type": "code",
   "execution_count": 38,
   "metadata": {},
   "outputs": [],
   "source": [
    "def solve_coefficient(flow, head, initial_guess, b=0, constant=0):\n",
    "    equation = lambda a: head_curve(flow, a, b, constant) - head\n",
    "\n",
    "    solution = fsolve(equation, x0=initial_guess)\n",
    "    return solution[0]"
   ]
  },
  {
   "cell_type": "code",
   "execution_count": 39,
   "metadata": {},
   "outputs": [],
   "source": [
    "rated_flow, rated_head, shutoff_head = (100, 1000, 1300)\n",
    "a = solve_coefficient(rated_flow, rated_head, 0, 0, shutoff_head)"
   ]
  },
  {
   "cell_type": "code",
   "execution_count": 40,
   "metadata": {},
   "outputs": [
    {
     "data": {
      "text/plain": [
       "[1000.0, 100.00000000000023]"
      ]
     },
     "execution_count": 40,
     "metadata": {},
     "output_type": "execute_result"
    }
   ],
   "source": [
    "head = head_curve(flow=[100, 200], a=a, noflow_head=shutoff_head)\n",
    "head"
   ]
  },
  {
   "cell_type": "code",
   "execution_count": 45,
   "metadata": {},
   "outputs": [],
   "source": [
    "# Example data points\n",
    "Q = np.array([0, 100, 200, 300, 400, 500])  # Flow rates\n",
    "H = np.array([1300, 1200, 1000, 700, 300, 100])  # Corresponding heads"
   ]
  },
  {
   "cell_type": "code",
   "execution_count": 47,
   "metadata": {},
   "outputs": [
    {
     "data": {
      "text/plain": [
       "(array([-0.00267081, -1.18012422]),\n",
       " array([[ 7.39988822e-07, -3.02722696e-04],\n",
       "        [-3.02722696e-04,  1.31718007e-01]]))"
      ]
     },
     "execution_count": 47,
     "metadata": {},
     "output_type": "execute_result"
    }
   ],
   "source": [
    "eq = lambda Q, a, b: a * Q**2 + b * Q + 1300\n",
    "curve_fit(eq, Q, H)"
   ]
  },
  {
   "cell_type": "code",
   "execution_count": 49,
   "metadata": {},
   "outputs": [],
   "source": [
    "def get_headcurve_coefficients(flow, head):\n",
    "    if flow[0] == 0:\n",
    "        c = head[0]\n",
    "        eq = lambda Q, a, b: (a * Q**2) + (b * Q) + c\n",
    "        popt, _ = curve_fit(eq, flow, head)\n",
    "        return (popt[0], popt[1], c)\n",
    "    else:\n",
    "        eq = lambda Q, a, b, c: (a * Q**2) + (b * Q) + c\n",
    "        popt, _ = curve_fit(eq, flow, head)\n",
    "        return tuple(popt)"
   ]
  },
  {
   "cell_type": "code",
   "execution_count": 52,
   "metadata": {},
   "outputs": [
    {
     "data": {
      "text/plain": [
       "(-0.0007142857164672556, -2.4714285714368445, 1480.0000000033526)"
      ]
     },
     "execution_count": 52,
     "metadata": {},
     "output_type": "execute_result"
    }
   ],
   "source": [
    "# Example data points\n",
    "Q = np.array([100, 200, 300, 400, 500])  # Flow rates\n",
    "H = np.array([1200, 1000, 700, 300, 100])  # Corresponding heads\n",
    "get_headcurve_coefficients(Q, H)"
   ]
  },
  {
   "cell_type": "code",
   "execution_count": 50,
   "metadata": {},
   "outputs": [
    {
     "data": {
      "text/plain": [
       "(-0.0026708074632431173, -1.1801242180491813, 1300)"
      ]
     },
     "execution_count": 50,
     "metadata": {},
     "output_type": "execute_result"
    }
   ],
   "source": [
    "get_headcurve_coefficients(Q, H)"
   ]
  },
  {
   "cell_type": "code",
   "execution_count": null,
   "metadata": {},
   "outputs": [],
   "source": []
  }
 ],
 "metadata": {
  "kernelspec": {
   "display_name": ".venv",
   "language": "python",
   "name": "python3"
  },
  "language_info": {
   "codemirror_mode": {
    "name": "ipython",
    "version": 3
   },
   "file_extension": ".py",
   "mimetype": "text/x-python",
   "name": "python",
   "nbconvert_exporter": "python",
   "pygments_lexer": "ipython3",
   "version": "3.12.0"
  }
 },
 "nbformat": 4,
 "nbformat_minor": 2
}
