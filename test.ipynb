{
 "cells": [
  {
   "cell_type": "code",
   "execution_count": 2,
   "metadata": {},
   "outputs": [],
   "source": [
    "import pandas as pd\n",
    "import numpy as np          \n",
    "from rotalysis import UtilityFunction as UF , PumpFunction as PF , CompressorFunction as CF , ValveFunction as VF\n"
   ]
  },
  {
   "cell_type": "code",
   "execution_count": 4,
   "metadata": {},
   "outputs": [
    {
     "name": "stdout",
     "output_type": "stream",
     "text": [
      "             value     unit\n",
      "parameter                  \n",
      "pipe_loss      0.2         \n",
      "min_cv_loss    0.5  default Empty DataFrame\n",
      "Columns: [value, unit]\n",
      "Index: [] Empty DataFrame\n",
      "Columns: [value, unit]\n",
      "Index: []\n"
     ]
    }
   ],
   "source": [
    "pump_cfg =  UF.load_config_pump()\n",
    "comp_cfg =  UF.load_config_compressor()\n",
    "valve_cfg = UF.load_config_valve()\n",
    "print(pump_cfg ,comp_cfg , valve_cfg)"
   ]
  },
  {
   "cell_type": "code",
   "execution_count": 2,
   "metadata": {},
   "outputs": [
    {
     "data": {
      "text/html": [
       "<div>\n",
       "<style scoped>\n",
       "    .dataframe tbody tr th:only-of-type {\n",
       "        vertical-align: middle;\n",
       "    }\n",
       "\n",
       "    .dataframe tbody tr th {\n",
       "        vertical-align: top;\n",
       "    }\n",
       "\n",
       "    .dataframe thead th {\n",
       "        text-align: right;\n",
       "    }\n",
       "</style>\n",
       "<table border=\"1\" class=\"dataframe\">\n",
       "  <thead>\n",
       "    <tr style=\"text-align: right;\">\n",
       "      <th></th>\n",
       "      <th>value</th>\n",
       "      <th>unit</th>\n",
       "    </tr>\n",
       "    <tr>\n",
       "      <th>process_data</th>\n",
       "      <th></th>\n",
       "      <th></th>\n",
       "    </tr>\n",
       "  </thead>\n",
       "  <tbody>\n",
       "    <tr>\n",
       "      <th>tag_no</th>\n",
       "      <td>570-P-2900</td>\n",
       "      <td></td>\n",
       "    </tr>\n",
       "    <tr>\n",
       "      <th>description</th>\n",
       "      <td>Description</td>\n",
       "      <td></td>\n",
       "    </tr>\n",
       "    <tr>\n",
       "      <th>site</th>\n",
       "      <td>LZ</td>\n",
       "      <td></td>\n",
       "    </tr>\n",
       "    <tr>\n",
       "      <th>rated_flow</th>\n",
       "      <td>638</td>\n",
       "      <td>default</td>\n",
       "    </tr>\n",
       "    <tr>\n",
       "      <th>density</th>\n",
       "      <td>780</td>\n",
       "      <td>default</td>\n",
       "    </tr>\n",
       "    <tr>\n",
       "      <th>valve_size</th>\n",
       "      <td>6</td>\n",
       "      <td></td>\n",
       "    </tr>\n",
       "    <tr>\n",
       "      <th>valve_character</th>\n",
       "      <td>linear</td>\n",
       "      <td></td>\n",
       "    </tr>\n",
       "    <tr>\n",
       "      <th>pump_speed</th>\n",
       "      <td>2970</td>\n",
       "      <td></td>\n",
       "    </tr>\n",
       "    <tr>\n",
       "      <th>header_row</th>\n",
       "      <td>2</td>\n",
       "      <td></td>\n",
       "    </tr>\n",
       "  </tbody>\n",
       "</table>\n",
       "</div>"
      ],
      "text/plain": [
       "                       value     unit\n",
       "process_data                         \n",
       "tag_no            570-P-2900         \n",
       "description      Description         \n",
       "site                      LZ         \n",
       "rated_flow               638  default\n",
       "density                  780  default\n",
       "valve_size                 6         \n",
       "valve_character       linear         \n",
       "pump_speed              2970         \n",
       "header_row                 2         "
      ]
     },
     "execution_count": 2,
     "metadata": {},
     "output_type": "execute_result"
    }
   ],
   "source": [
    "import pandas as pd\n",
    "file_path = \"570-P-2900 Data.xlsx\"\n",
    "dfprocessdata = pd.read_excel(file_path,sheet_name=\"process data\",index_col=0).fillna(\"\")\n",
    "header_row = dfprocessdata.at[\"header_row\",\"value\"]\n",
    "ignore_rows = header_row - 1\n",
    "dfprocessdata\n"
   ]
  },
  {
   "cell_type": "code",
   "execution_count": null,
   "metadata": {},
   "outputs": [],
   "source": [
    "dfoperation = pd.read_excel(file_path, sheet_name=\"operational data\", header=ignore_rows)\n",
    "from VSDfunctions import UtilityFunctions as \n",
    "dfoperation = UtilityFunctions"
   ]
  }
 ],
 "metadata": {
  "kernelspec": {
   "display_name": "venv",
   "language": "python",
   "name": "python3"
  },
  "language_info": {
   "codemirror_mode": {
    "name": "ipython",
    "version": 3
   },
   "file_extension": ".py",
   "mimetype": "text/x-python",
   "name": "python",
   "nbconvert_exporter": "python",
   "pygments_lexer": "ipython3",
   "version": "3.11.1"
  },
  "orig_nbformat": 4
 },
 "nbformat": 4,
 "nbformat_minor": 2
}
