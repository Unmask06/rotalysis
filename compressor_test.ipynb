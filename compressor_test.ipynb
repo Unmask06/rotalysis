{
 "cells": [
  {
   "cell_type": "code",
   "execution_count": null,
   "metadata": {},
   "outputs": [],
   "source": [
    "import pandas as pd\n",
    "from pathlib import Path\n",
    "\n",
    "from rotalysis import UtilityFunction as uf, Pump as pf\n",
    "import matplotlib.pyplot as plt\n"
   ]
  },
  {
   "cell_type": "code",
   "execution_count": null,
   "metadata": {},
   "outputs": [],
   "source": [
    "p = Path(\n",
    "    r\"T:\\Project\\aeT00989.00 Decarbonization Feasibility Study\\03. Client design information\\3.01 General\\Operational Data\\Opportunity 3 and 4\\Received\\Copy of SARB Compressors.xlsx\"\n",
    ")\n",
    "df = pd.read_excel(p, header=1, sheet_name=3)\n"
   ]
  },
  {
   "cell_type": "code",
   "execution_count": null,
   "metadata": {},
   "outputs": [],
   "source": [
    "df = uf.Clean_dataframe(df)"
   ]
  },
  {
   "cell_type": "code",
   "execution_count": null,
   "metadata": {},
   "outputs": [],
   "source": [
    "df.columns\n"
   ]
  },
  {
   "cell_type": "code",
   "execution_count": null,
   "metadata": {},
   "outputs": [],
   "source": [
    "df = df.loc[df[\"1st Stg suction flowrate\"] > 0]"
   ]
  },
  {
   "cell_type": "code",
   "execution_count": null,
   "metadata": {},
   "outputs": [],
   "source": [
    "df[\"Speed\"].hist(range=(0, 2000))"
   ]
  },
  {
   "cell_type": "code",
   "execution_count": null,
   "metadata": {},
   "outputs": [],
   "source": [
    "import numpy as np\n",
    "\n",
    "count, bins = np.histogram(df[\"3rd Stage Antisurge valve opening\"])"
   ]
  },
  {
   "cell_type": "code",
   "execution_count": null,
   "metadata": {},
   "outputs": [],
   "source": [
    "for c, b in zip(count, bins):\n",
    "    c = (c / sum(count)) * 100\n",
    "    print(c, b)"
   ]
  },
  {
   "cell_type": "code",
   "execution_count": null,
   "metadata": {},
   "outputs": [],
   "source": [
    "df[\"3rd Stage Antisurge valve opening\"].hist(bins=20)"
   ]
  },
  {
   "cell_type": "code",
   "execution_count": null,
   "metadata": {},
   "outputs": [],
   "source": [
    "# 1st stg ASV\n",
    "df[\"576-ZI-2600.PV\"].hist()"
   ]
  },
  {
   "cell_type": "code",
   "execution_count": null,
   "metadata": {},
   "outputs": [],
   "source": [
    "# 2nd stg ASV\n",
    "df.loc[df[\"576-FI-2601.PV\"] > 0, \"576-ZI-2601.PV\"].hist()"
   ]
  },
  {
   "cell_type": "code",
   "execution_count": null,
   "metadata": {},
   "outputs": [],
   "source": [
    "# 4th stg ASV\n",
    "df.loc[(df[\"576-FI-2601.PV\"] > 10) & (df[\"576-KI-2710.PV\"] > 0), \"576-ZI-2602.PV\"].hist()\n"
   ]
  },
  {
   "cell_type": "code",
   "execution_count": null,
   "metadata": {},
   "outputs": [],
   "source": [
    "# 1st stg speed\n",
    "df.loc[df[\"576-FI-2601.PV\"] > 0, \"576-KI-2711.PV\"].hist(bins=20)"
   ]
  },
  {
   "cell_type": "code",
   "execution_count": null,
   "metadata": {},
   "outputs": [],
   "source": [
    "df.loc[df[\"576-FI-2601.PV\"] > 0, \"576-KI-2711.PV\"].mean()"
   ]
  },
  {
   "cell_type": "code",
   "execution_count": null,
   "metadata": {},
   "outputs": [],
   "source": [
    "df.loc[df[\"576-FI-2601.PV\"] > 0, \"576-KI-2710.PV\"].mean()"
   ]
  },
  {
   "cell_type": "code",
   "execution_count": null,
   "metadata": {},
   "outputs": [],
   "source": [
    "4500 / 4700"
   ]
  },
  {
   "cell_type": "code",
   "execution_count": null,
   "metadata": {},
   "outputs": [],
   "source": [
    "0.70 * 4700"
   ]
  },
  {
   "cell_type": "code",
   "execution_count": null,
   "metadata": {},
   "outputs": [],
   "source": [
    "(0.7**2) * 6"
   ]
  },
  {
   "cell_type": "code",
   "execution_count": null,
   "metadata": {},
   "outputs": [],
   "source": [
    "(x1, y1), (x2, y2) = (4700, 6), (4000, 5.1)\n",
    "# (x1,y1),(x2,y2) = (5,5),(4,4)"
   ]
  },
  {
   "cell_type": "code",
   "execution_count": null,
   "metadata": {},
   "outputs": [],
   "source": [
    "m = (y2 - y1) / (x2 - x1)\n",
    "m"
   ]
  },
  {
   "cell_type": "code",
   "execution_count": null,
   "metadata": {},
   "outputs": [],
   "source": [
    "import math\n",
    "\n",
    "# tan inverse of m\n",
    "radi = math.atan(m)\n",
    "radi"
   ]
  },
  {
   "cell_type": "code",
   "execution_count": null,
   "metadata": {},
   "outputs": [],
   "source": [
    "degre = math.degrees(radi)\n",
    "degre\n"
   ]
  },
  {
   "cell_type": "code",
   "execution_count": null,
   "metadata": {},
   "outputs": [],
   "source": [
    "c = y1 - m * x1\n",
    "c"
   ]
  },
  {
   "cell_type": "code",
   "execution_count": null,
   "metadata": {},
   "outputs": [],
   "source": [
    "c2 = y2 - m * x2\n",
    "c2"
   ]
  },
  {
   "cell_type": "code",
   "execution_count": null,
   "metadata": {},
   "outputs": [],
   "source": [
    "0.5 / 500"
   ]
  },
  {
   "cell_type": "code",
   "execution_count": null,
   "metadata": {},
   "outputs": [],
   "source": [
    "from sklearn.linear_model import LinearRegression\n",
    "\n",
    "model = LinearRegression().fit([[4700], [4000], [3000]], [6, 5.1, 3.8])\n",
    "model.coef_\n"
   ]
  },
  {
   "cell_type": "code",
   "execution_count": null,
   "metadata": {},
   "outputs": [],
   "source": [
    "model.intercept_\n"
   ]
  },
  {
   "cell_type": "code",
   "execution_count": null,
   "metadata": {},
   "outputs": [],
   "source": [
    "dir(hysys.Flowsheet.Operations(\"s1-comp\"))\n"
   ]
  },
  {
   "cell_type": "code",
   "execution_count": null,
   "metadata": {},
   "outputs": [],
   "source": [
    "import win32com.client\n",
    "import os\n",
    "from pathlib import Path\n",
    "\n",
    "hy_path = Path(\n",
    "    r\"T:\\Project\\aeT00989.00 Decarbonization Feasibility Study\\09. Documents, Drawings\\9.31 Process\\09.31.01 Current documents\\Opp 3\\Umm Lulu\\UL VRU Compressor\\compressor.hsc\"\n",
    ")\n",
    "app = win32com.client.Dispatch(\"HYSYS.Application\")\n",
    "file_path = os.path.abspath(hy_path)\n",
    "\n",
    "hysys = app.SimulationCases.Open(file_path)\n",
    "hysys.visible = True"
   ]
  },
  {
   "cell_type": "code",
   "execution_count": null,
   "metadata": {},
   "outputs": [],
   "source": [
    "s1_suc = hysys.Flowsheet.Streams.Item(\"s1-suc-us\")\n",
    "s1_suc.MassFlowValue = 6157 / 3600\n",
    "s1_suc.TemperatureValue = 46.4\n",
    "s1_suc.PressureValue = 1.1 * 100\n",
    "hysys.Flowsheet.Operations(\"s1-comp\").CompPolytropicEff = 87"
   ]
  },
  {
   "cell_type": "code",
   "execution_count": null,
   "metadata": {},
   "outputs": [],
   "source": [
    "s1_dis = hysys.Flowsheet.Streams.Item(\"s1-dis-us\")\n",
    "s1_dis.PressureValue = 2.812 * 100\n",
    "print(s1_dis.TemperatureValue)"
   ]
  },
  {
   "cell_type": "code",
   "execution_count": null,
   "metadata": {},
   "outputs": [],
   "source": [
    "# Power at stg 3 , operating at 5987 kg/h\n",
    "hysys.Flowsheet.Operations.Item(\"s1-comp\").EnergyValue\n",
    "s1_suc.MassFlowValue = s1_suc.MassFlowValue * 0.75\n",
    "print(hysys.Flowsheet.Operations.Item(\"s1-comp\").EnergyValue)"
   ]
  },
  {
   "cell_type": "code",
   "execution_count": null,
   "metadata": {},
   "outputs": [],
   "source": [
    "s2_suc = hysys.Flowsheet.Streams.Item(\"s2-suc-us\")\n",
    "print(s2_suc.MassFlowValue * 3600)\n",
    "s2_suc.TemperatureValue = 55\n",
    "s2_suc.PressureValue = 2.462 * 100\n",
    "hysys.Flowsheet.Operations(\"s2-comp\").CompPolytropicEff = 77\n",
    "\n",
    "s2_dis = hysys.Flowsheet.Streams.Item(\"s2-dis-ds\")\n",
    "s2_dis.PressureValue = 5.396 * 100\n",
    "print(s2_dis.TemperatureValue)\n",
    "print(hysys.Flowsheet.Operations.Item(\"s2-comp\").EnergyValue)"
   ]
  },
  {
   "cell_type": "code",
   "execution_count": null,
   "metadata": {},
   "outputs": [],
   "source": [
    "s3_suc = hysys.Flowsheet.Streams.Item(\"s3-suc-us\")\n",
    "print(s3_suc.MassFlowValue * 3600)\n",
    "s3_suc.TemperatureValue = 53.4\n",
    "s3_suc.PressureValue = 5.046 * 100\n",
    "hysys.Flowsheet.Operations(\"s3-comp\").CompPolytropicEff = 67\n",
    "\n",
    "s3_dis = hysys.Flowsheet.Streams.Item(\"s3-dis-us\")\n",
    "s3_dis.PressureValue = 6.745 * 100\n",
    "print(s3_dis.TemperatureValue)\n",
    "print(hysys.Flowsheet.Operations.Item(\"s3-comp\").EnergyValue)"
   ]
  },
  {
   "cell_type": "code",
   "execution_count": null,
   "metadata": {},
   "outputs": [],
   "source": [
    "s4_suc = hysys.Flowsheet.Streams.Item(\"s4-suc-us\")\n",
    "print(s4_suc.MassFlowValue * 3600)\n",
    "hysys.Flowsheet.Streams.Item(\"10\").TemperatureValue = 45\n",
    "s4_suc.TemperatureValue = 53.4\n",
    "s4_suc.PressureValue = 6.7 * 100\n",
    "hysys.Flowsheet.Operations(\"s4-comp\").CompPolytropicEff = 67\n",
    "\n",
    "s4_dis = hysys.Flowsheet.Streams.Item(\"s4-dis-us\")\n",
    "s4_dis.PressureValue = 10 * 100\n",
    "print(s4_dis.TemperatureValue)\n",
    "print(hysys.Flowsheet.Operations.Item(\"s4-comp\").EnergyValue)"
   ]
  },
  {
   "cell_type": "code",
   "execution_count": 1,
   "metadata": {},
   "outputs": [],
   "source": [
    "from rotalysis import Pump"
   ]
  },
  {
   "cell_type": "code",
   "execution_count": 2,
   "metadata": {},
   "outputs": [],
   "source": [
    "p1 = Pump(config_path=\"Config.xlsx\", data_path=\"Input/UL/570-P-2900 Data.xlsx\")\n"
   ]
  },
  {
   "cell_type": "code",
   "execution_count": 3,
   "metadata": {},
   "outputs": [
    {
     "data": {
      "text/plain": [
       "{'pipe_loss': {'value': 0.2, 'unit': nan},\n",
       " 'min_cv_loss': {'value': 0.5, 'unit': 'default'},\n",
       " 'min_cv_opening': {'value': 0.01, 'unit': nan},\n",
       " 'discharge_flowrate': {'value': 0.0, 'unit': 'default'},\n",
       " 'min_working_percent': {'value': 0.005, 'unit': nan},\n",
       " 'min_speed': {'value': 0.7, 'unit': nan},\n",
       " 'bin_percent': {'value': 0.05, 'unit': nan},\n",
       " 'emission_factor': {'value': 0.45, 'unit': 'tCO2/MWh'},\n",
       " 'pump_efficiency': {'value': 0.75, 'unit': nan},\n",
       " 'pump_cost': {'value': 500.0, 'unit': 'USD/kW'},\n",
       " 'impeller_replacement_cost': {'value': 0.2, 'unit': nan},\n",
       " 'motor_cost': {'value': 300.0, 'unit': 'USD/kW'},\n",
       " 'high_eff_escalation_factor': {'value': 0.17, 'unit': nan},\n",
       " 'premium_eff_escalation_factor': {'value': 0.34, 'unit': nan},\n",
       " 'std_eff_motor': {'value': 0.95, 'unit': nan},\n",
       " 'high_eff_motor': {'value': 0.956, 'unit': nan},\n",
       " 'premium_eff_motor': {'value': 0.97, 'unit': nan}}"
      ]
     },
     "execution_count": 3,
     "metadata": {},
     "output_type": "execute_result"
    }
   ],
   "source": [
    "p1.config"
   ]
  },
  {
   "cell_type": "code",
   "execution_count": 4,
   "metadata": {},
   "outputs": [
    {
     "data": {
      "text/plain": [
       "{'equipment_type': {'value': 'Pump', 'unit': nan},\n",
       " 'tag_no': {'value': '570-P-2900', 'unit': nan},\n",
       " 'description': {'value': 'Description', 'unit': nan},\n",
       " 'site': {'value': 'LZ', 'unit': nan},\n",
       " 'rated_flow': {'value': 638, 'unit': 'default'},\n",
       " 'density': {'value': 780, 'unit': 'default'},\n",
       " 'BEP_flowrate': {'value': nan, 'unit': 'default'},\n",
       " 'BEP_efficiency': {'value': 0.75, 'unit': nan},\n",
       " 'motor_efficiency': {'value': 0.9, 'unit': nan},\n",
       " 'valve_size': {'value': 6, 'unit': nan},\n",
       " 'valve_character': {'value': 'Linear', 'unit': nan},\n",
       " 'pump_speed': {'value': 2970, 'unit': nan},\n",
       " 'header_row': {'value': 2, 'unit': nan},\n",
       " 'calculation_method': {'value': 'downstream_pressure', 'unit': nan}}"
      ]
     },
     "execution_count": 4,
     "metadata": {},
     "output_type": "execute_result"
    }
   ],
   "source": [
    "p1.process_data"
   ]
  },
  {
   "cell_type": "code",
   "execution_count": 5,
   "metadata": {},
   "outputs": [
    {
     "data": {
      "text/plain": [
       "{'flowrate': 'default', 'pressure': 'default', 'density': 'default'}"
      ]
     },
     "execution_count": 5,
     "metadata": {},
     "output_type": "execute_result"
    }
   ],
   "source": [
    "p1.unit\n"
   ]
  },
  {
   "cell_type": "code",
   "execution_count": 6,
   "metadata": {},
   "outputs": [],
   "source": [
    "p1.clean_non_numeric_data()"
   ]
  },
  {
   "cell_type": "code",
   "execution_count": 7,
   "metadata": {},
   "outputs": [],
   "source": [
    "p1.remove_irrelevant_columns()"
   ]
  },
  {
   "cell_type": "code",
   "execution_count": 8,
   "metadata": {},
   "outputs": [],
   "source": [
    "p1.remove_abnormal_rows()"
   ]
  },
  {
   "cell_type": "code",
   "execution_count": 9,
   "metadata": {},
   "outputs": [],
   "source": [
    "p1.get_computed_columns()"
   ]
  },
  {
   "cell_type": "code",
   "execution_count": 10,
   "metadata": {},
   "outputs": [],
   "source": [
    "dfop = p1.dfoperation\n"
   ]
  },
  {
   "cell_type": "code",
   "execution_count": 11,
   "metadata": {},
   "outputs": [],
   "source": [
    "p1.group_by_flowrate_percent()"
   ]
  },
  {
   "cell_type": "code",
   "execution_count": 13,
   "metadata": {},
   "outputs": [],
   "source": [
    "dfcal = p1.dfcalculation"
   ]
  },
  {
   "cell_type": "code",
   "execution_count": null,
   "metadata": {},
   "outputs": [],
   "source": []
  }
 ],
 "metadata": {
  "kernelspec": {
   "display_name": ".venv",
   "language": "python",
   "name": "python3"
  },
  "language_info": {
   "codemirror_mode": {
    "name": "ipython",
    "version": 3
   },
   "file_extension": ".py",
   "mimetype": "text/x-python",
   "name": "python",
   "nbconvert_exporter": "python",
   "pygments_lexer": "ipython3",
   "version": "3.11.1"
  },
  "orig_nbformat": 4
 },
 "nbformat": 4,
 "nbformat_minor": 2
}
