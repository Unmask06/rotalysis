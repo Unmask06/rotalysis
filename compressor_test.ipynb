{
 "cells": [
  {
   "cell_type": "code",
   "execution_count": null,
   "metadata": {},
   "outputs": [],
   "source": [
    "import pandas as pd\n",
    "from pathlib import Path\n",
    "\n",
    "from rotalysis import UtilityFunction as uf, PF as pf\n",
    "import matplotlib.pyplot as plt\n"
   ]
  },
  {
   "cell_type": "code",
   "execution_count": null,
   "metadata": {},
   "outputs": [],
   "source": [
    "p = Path(\n",
    "    r\"T:\\Project\\aeT00989.00 Decarbonization Feasibility Study\\03. Client design information\\3.01 General\\Operational Data\\Opportunity 3 and 4\\Received\\Copy of SARB Compressors.xlsx\"\n",
    ")\n",
    "df = pd.read_excel(p, header=1, sheet_name=3)\n"
   ]
  },
  {
   "cell_type": "code",
   "execution_count": null,
   "metadata": {},
   "outputs": [],
   "source": [
    "df = uf.Clean_dataframe(df)"
   ]
  },
  {
   "cell_type": "code",
   "execution_count": null,
   "metadata": {},
   "outputs": [],
   "source": [
    "df.columns\n"
   ]
  },
  {
   "cell_type": "code",
   "execution_count": null,
   "metadata": {},
   "outputs": [],
   "source": [
    "df = df.loc[df[\"1st Stg suction flowrate\"] > 0]"
   ]
  },
  {
   "cell_type": "code",
   "execution_count": null,
   "metadata": {},
   "outputs": [],
   "source": [
    "df[\"Speed\"].hist(range=(0, 2000))"
   ]
  },
  {
   "cell_type": "code",
   "execution_count": null,
   "metadata": {},
   "outputs": [],
   "source": [
    "import numpy as np\n",
    "\n",
    "count, bins = np.histogram(df[\"3rd Stage Antisurge valve opening\"])"
   ]
  },
  {
   "cell_type": "code",
   "execution_count": null,
   "metadata": {},
   "outputs": [],
   "source": [
    "for c, b in zip(count, bins):\n",
    "    c = (c / sum(count)) * 100\n",
    "    print(c, b)"
   ]
  },
  {
   "cell_type": "code",
   "execution_count": null,
   "metadata": {},
   "outputs": [],
   "source": [
    "df[\"3rd Stage Antisurge valve opening\"].hist(bins=20)"
   ]
  },
  {
   "cell_type": "code",
   "execution_count": null,
   "metadata": {},
   "outputs": [],
   "source": [
    "# 1st stg ASV\n",
    "df[\"576-ZI-2600.PV\"].hist()"
   ]
  },
  {
   "cell_type": "code",
   "execution_count": null,
   "metadata": {},
   "outputs": [],
   "source": [
    "# 2nd stg ASV\n",
    "df.loc[df[\"576-FI-2601.PV\"] > 0, \"576-ZI-2601.PV\"].hist()"
   ]
  },
  {
   "cell_type": "code",
   "execution_count": null,
   "metadata": {},
   "outputs": [],
   "source": [
    "# 4th stg ASV\n",
    "df.loc[(df[\"576-FI-2601.PV\"] > 10) & (df[\"576-KI-2710.PV\"] > 0), \"576-ZI-2602.PV\"].hist()\n"
   ]
  },
  {
   "cell_type": "code",
   "execution_count": null,
   "metadata": {},
   "outputs": [],
   "source": [
    "# 1st stg speed\n",
    "df.loc[df[\"576-FI-2601.PV\"] > 0, \"576-KI-2711.PV\"].hist(bins=20)"
   ]
  },
  {
   "cell_type": "code",
   "execution_count": null,
   "metadata": {},
   "outputs": [],
   "source": [
    "df.loc[df[\"576-FI-2601.PV\"] > 0, \"576-KI-2711.PV\"].mean()"
   ]
  },
  {
   "cell_type": "code",
   "execution_count": null,
   "metadata": {},
   "outputs": [],
   "source": [
    "df.loc[df[\"576-FI-2601.PV\"] > 0, \"576-KI-2710.PV\"].mean()"
   ]
  },
  {
   "cell_type": "code",
   "execution_count": null,
   "metadata": {},
   "outputs": [],
   "source": [
    "4500 / 4700"
   ]
  },
  {
   "cell_type": "code",
   "execution_count": null,
   "metadata": {},
   "outputs": [],
   "source": [
    "0.70 * 4700"
   ]
  },
  {
   "cell_type": "code",
   "execution_count": null,
   "metadata": {},
   "outputs": [],
   "source": [
    "(0.7**2) * 6"
   ]
  },
  {
   "cell_type": "code",
   "execution_count": null,
   "metadata": {},
   "outputs": [],
   "source": [
    "(x1, y1), (x2, y2) = (4700, 6), (4000, 5.1)\n",
    "# (x1,y1),(x2,y2) = (5,5),(4,4)"
   ]
  },
  {
   "cell_type": "code",
   "execution_count": null,
   "metadata": {},
   "outputs": [],
   "source": [
    "m = (y2 - y1) / (x2 - x1)\n",
    "m"
   ]
  },
  {
   "cell_type": "code",
   "execution_count": null,
   "metadata": {},
   "outputs": [],
   "source": [
    "import math\n",
    "\n",
    "# tan inverse of m\n",
    "radi = math.atan(m)\n",
    "radi"
   ]
  },
  {
   "cell_type": "code",
   "execution_count": null,
   "metadata": {},
   "outputs": [],
   "source": [
    "degre = math.degrees(radi)\n",
    "degre\n"
   ]
  },
  {
   "cell_type": "code",
   "execution_count": null,
   "metadata": {},
   "outputs": [],
   "source": [
    "c = y1 - m * x1\n",
    "c"
   ]
  },
  {
   "cell_type": "code",
   "execution_count": null,
   "metadata": {},
   "outputs": [],
   "source": [
    "c2 = y2 - m * x2\n",
    "c2"
   ]
  },
  {
   "cell_type": "code",
   "execution_count": null,
   "metadata": {},
   "outputs": [],
   "source": [
    "0.5 / 500"
   ]
  },
  {
   "cell_type": "code",
   "execution_count": null,
   "metadata": {},
   "outputs": [],
   "source": [
    "from sklearn.linear_model import LinearRegression\n",
    "\n",
    "model = LinearRegression().fit([[4700], [4000], [3000]], [6, 5.1, 3.8])\n",
    "model.coef_\n"
   ]
  },
  {
   "cell_type": "code",
   "execution_count": null,
   "metadata": {},
   "outputs": [],
   "source": [
    "model.intercept_\n"
   ]
  },
  {
   "cell_type": "code",
   "execution_count": null,
   "metadata": {},
   "outputs": [],
   "source": [
    "dir(hysys.Flowsheet.Operations(\"s1-comp\"))\n"
   ]
  },
  {
   "cell_type": "code",
   "execution_count": null,
   "metadata": {},
   "outputs": [],
   "source": [
    "import win32com.client\n",
    "import os\n",
    "from pathlib import Path\n",
    "\n",
    "hy_path = Path(\n",
    "    r\"T:\\Project\\aeT00989.00 Decarbonization Feasibility Study\\09. Documents, Drawings\\9.31 Process\\09.31.01 Current documents\\Opp 3\\Umm Lulu\\UL VRU Compressor\\compressor.hsc\"\n",
    ")\n",
    "app = win32com.client.Dispatch(\"HYSYS.Application\")\n",
    "file_path = os.path.abspath(hy_path)\n",
    "\n",
    "hysys = app.SimulationCases.Open(file_path)\n",
    "hysys.visible = True"
   ]
  },
  {
   "cell_type": "code",
   "execution_count": null,
   "metadata": {},
   "outputs": [],
   "source": [
    "s1_suc = hysys.Flowsheet.Streams.Item(\"s1-suc-us\")\n",
    "s1_suc.MassFlowValue = 6157 / 3600\n",
    "s1_suc.TemperatureValue = 46.4\n",
    "s1_suc.PressureValue = 1.1 * 100\n",
    "hysys.Flowsheet.Operations(\"s1-comp\").CompPolytropicEff = 87"
   ]
  },
  {
   "cell_type": "code",
   "execution_count": null,
   "metadata": {},
   "outputs": [],
   "source": [
    "s1_dis = hysys.Flowsheet.Streams.Item(\"s1-dis-us\")\n",
    "s1_dis.PressureValue = 2.812 * 100\n",
    "print(s1_dis.TemperatureValue)"
   ]
  },
  {
   "cell_type": "code",
   "execution_count": null,
   "metadata": {},
   "outputs": [],
   "source": [
    "# Power at stg 3 , operating at 5987 kg/h\n",
    "hysys.Flowsheet.Operations.Item(\"s1-comp\").EnergyValue\n",
    "s1_suc.MassFlowValue = s1_suc.MassFlowValue * 0.75\n",
    "print(hysys.Flowsheet.Operations.Item(\"s1-comp\").EnergyValue)"
   ]
  },
  {
   "cell_type": "code",
   "execution_count": null,
   "metadata": {},
   "outputs": [],
   "source": [
    "s2_suc = hysys.Flowsheet.Streams.Item(\"s2-suc-us\")\n",
    "print(s2_suc.MassFlowValue * 3600)\n",
    "s2_suc.TemperatureValue = 55\n",
    "s2_suc.PressureValue = 2.462 * 100\n",
    "hysys.Flowsheet.Operations(\"s2-comp\").CompPolytropicEff = 77\n",
    "\n",
    "s2_dis = hysys.Flowsheet.Streams.Item(\"s2-dis-ds\")\n",
    "s2_dis.PressureValue = 5.396 * 100\n",
    "print(s2_dis.TemperatureValue)\n",
    "print(hysys.Flowsheet.Operations.Item(\"s2-comp\").EnergyValue)"
   ]
  },
  {
   "cell_type": "code",
   "execution_count": null,
   "metadata": {},
   "outputs": [],
   "source": [
    "s3_suc = hysys.Flowsheet.Streams.Item(\"s3-suc-us\")\n",
    "print(s3_suc.MassFlowValue * 3600)\n",
    "s3_suc.TemperatureValue = 53.4\n",
    "s3_suc.PressureValue = 5.046 * 100\n",
    "hysys.Flowsheet.Operations(\"s3-comp\").CompPolytropicEff = 67\n",
    "\n",
    "s3_dis = hysys.Flowsheet.Streams.Item(\"s3-dis-us\")\n",
    "s3_dis.PressureValue = 6.745 * 100\n",
    "print(s3_dis.TemperatureValue)\n",
    "print(hysys.Flowsheet.Operations.Item(\"s3-comp\").EnergyValue)"
   ]
  },
  {
   "cell_type": "code",
   "execution_count": null,
   "metadata": {},
   "outputs": [],
   "source": [
    "s4_suc = hysys.Flowsheet.Streams.Item(\"s4-suc-us\")\n",
    "print(s4_suc.MassFlowValue * 3600)\n",
    "hysys.Flowsheet.Streams.Item(\"10\").TemperatureValue = 45\n",
    "s4_suc.TemperatureValue = 53.4\n",
    "s4_suc.PressureValue = 6.7 * 100\n",
    "hysys.Flowsheet.Operations(\"s4-comp\").CompPolytropicEff = 67\n",
    "\n",
    "s4_dis = hysys.Flowsheet.Streams.Item(\"s4-dis-us\")\n",
    "s4_dis.PressureValue = 10 * 100\n",
    "print(s4_dis.TemperatureValue)\n",
    "print(hysys.Flowsheet.Operations.Item(\"s4-comp\").EnergyValue)"
   ]
  },
  {
   "cell_type": "code",
   "execution_count": 1,
   "metadata": {},
   "outputs": [],
   "source": [
    "from rotalysis import Pump\n",
    "from pathlib import Path\n"
   ]
  },
  {
   "cell_type": "code",
   "execution_count": 2,
   "metadata": {},
   "outputs": [],
   "source": [
    "p1 = Pump(config_path=\"Config.xlsx\", data_path=\"Input/UL/570-P-2900 Data.xlsx\")\n"
   ]
  },
  {
   "cell_type": "code",
   "execution_count": 3,
   "metadata": {},
   "outputs": [],
   "source": [
    "p1.clean_non_numeric_data()"
   ]
  },
  {
   "cell_type": "code",
   "execution_count": 4,
   "metadata": {},
   "outputs": [],
   "source": [
    "p1.remove_irrelevant_columns()"
   ]
  },
  {
   "cell_type": "code",
   "execution_count": 5,
   "metadata": {},
   "outputs": [],
   "source": [
    "p1.remove_abnormal_rows()"
   ]
  },
  {
   "cell_type": "code",
   "execution_count": 6,
   "metadata": {},
   "outputs": [],
   "source": [
    "p1.get_computed_columns()"
   ]
  },
  {
   "cell_type": "code",
   "execution_count": 7,
   "metadata": {},
   "outputs": [],
   "source": [
    "dfop = p1.dfoperation\n"
   ]
  },
  {
   "cell_type": "code",
   "execution_count": 8,
   "metadata": {},
   "outputs": [],
   "source": [
    "p1.group_by_flowrate_percent()"
   ]
  },
  {
   "cell_type": "code",
   "execution_count": 9,
   "metadata": {},
   "outputs": [],
   "source": [
    "p1.create_energy_calculation()\n"
   ]
  },
  {
   "cell_type": "code",
   "execution_count": 10,
   "metadata": {},
   "outputs": [],
   "source": [
    "dfcal = p1.dfcalculation"
   ]
  },
  {
   "cell_type": "code",
   "execution_count": 11,
   "metadata": {},
   "outputs": [],
   "source": [
    "dfVSD = p1.VSDCalculation\n",
    "dfImp = p1.ImpellerCalculation\n"
   ]
  },
  {
   "cell_type": "code",
   "execution_count": 12,
   "metadata": {},
   "outputs": [],
   "source": [
    "sumVSD = p1.VSDSummary\n",
    "sumImp = p1.ImpellerSummary"
   ]
  },
  {
   "cell_type": "code",
   "execution_count": 13,
   "metadata": {},
   "outputs": [],
   "source": [
    "sumVSD.columns = [\"VSD\"]\n"
   ]
  },
  {
   "cell_type": "code",
   "execution_count": 14,
   "metadata": {},
   "outputs": [
    {
     "data": {
      "text/html": [
       "<div>\n",
       "<style scoped>\n",
       "    .dataframe tbody tr th:only-of-type {\n",
       "        vertical-align: middle;\n",
       "    }\n",
       "\n",
       "    .dataframe tbody tr th {\n",
       "        vertical-align: top;\n",
       "    }\n",
       "\n",
       "    .dataframe thead th {\n",
       "        text-align: right;\n",
       "    }\n",
       "</style>\n",
       "<table border=\"1\" class=\"dataframe\">\n",
       "  <thead>\n",
       "    <tr style=\"text-align: right;\">\n",
       "      <th></th>\n",
       "      <th>VSD</th>\n",
       "    </tr>\n",
       "  </thead>\n",
       "  <tbody>\n",
       "    <tr>\n",
       "      <th>pump_tag</th>\n",
       "      <td>570-P-2900</td>\n",
       "    </tr>\n",
       "    <tr>\n",
       "      <th>rated_flowrate</th>\n",
       "      <td>638</td>\n",
       "    </tr>\n",
       "    <tr>\n",
       "      <th>selected_speed_variation</th>\n",
       "      <td>89% - 78%</td>\n",
       "    </tr>\n",
       "    <tr>\n",
       "      <th>base_case_energy_consumption</th>\n",
       "      <td>9185.948067</td>\n",
       "    </tr>\n",
       "    <tr>\n",
       "      <th>proposed_case_energy_consumption</th>\n",
       "      <td>4655.001295</td>\n",
       "    </tr>\n",
       "    <tr>\n",
       "      <th>annual_energy_savings</th>\n",
       "      <td>4530.946772</td>\n",
       "    </tr>\n",
       "    <tr>\n",
       "      <th>base_case_emission</th>\n",
       "      <td>4133.67663</td>\n",
       "    </tr>\n",
       "    <tr>\n",
       "      <th>proposed_case_emission</th>\n",
       "      <td>2094.750583</td>\n",
       "    </tr>\n",
       "    <tr>\n",
       "      <th>ghg_reduction</th>\n",
       "      <td>2038.926047</td>\n",
       "    </tr>\n",
       "    <tr>\n",
       "      <th>ghg_reduction_percent</th>\n",
       "      <td>0.493248</td>\n",
       "    </tr>\n",
       "  </tbody>\n",
       "</table>\n",
       "</div>"
      ],
      "text/plain": [
       "                                          VSD\n",
       "pump_tag                           570-P-2900\n",
       "rated_flowrate                            638\n",
       "selected_speed_variation            89% - 78%\n",
       "base_case_energy_consumption      9185.948067\n",
       "proposed_case_energy_consumption  4655.001295\n",
       "annual_energy_savings             4530.946772\n",
       "base_case_emission                 4133.67663\n",
       "proposed_case_emission            2094.750583\n",
       "ghg_reduction                     2038.926047\n",
       "ghg_reduction_percent                0.493248"
      ]
     },
     "execution_count": 14,
     "metadata": {},
     "output_type": "execute_result"
    }
   ],
   "source": [
    "sumVSD"
   ]
  },
  {
   "cell_type": "code",
   "execution_count": 15,
   "metadata": {},
   "outputs": [
    {
     "data": {
      "text/html": [
       "<div>\n",
       "<style scoped>\n",
       "    .dataframe tbody tr th:only-of-type {\n",
       "        vertical-align: middle;\n",
       "    }\n",
       "\n",
       "    .dataframe tbody tr th {\n",
       "        vertical-align: top;\n",
       "    }\n",
       "\n",
       "    .dataframe thead th {\n",
       "        text-align: right;\n",
       "    }\n",
       "</style>\n",
       "<table border=\"1\" class=\"dataframe\">\n",
       "  <thead>\n",
       "    <tr style=\"text-align: right;\">\n",
       "      <th></th>\n",
       "      <th>Vsd</th>\n",
       "      <th>Impeller</th>\n",
       "    </tr>\n",
       "  </thead>\n",
       "  <tbody>\n",
       "    <tr>\n",
       "      <th>Pump Tag</th>\n",
       "      <td>570-P-2900</td>\n",
       "      <td>570-P-2900</td>\n",
       "    </tr>\n",
       "    <tr>\n",
       "      <th>Rated Flowrate</th>\n",
       "      <td>638</td>\n",
       "      <td>638</td>\n",
       "    </tr>\n",
       "    <tr>\n",
       "      <th>Selected Speed Variation</th>\n",
       "      <td>89% - 78%</td>\n",
       "      <td>89% - 89%</td>\n",
       "    </tr>\n",
       "    <tr>\n",
       "      <th>Base Case Energy Consumption</th>\n",
       "      <td>9185.948067</td>\n",
       "      <td>9185.948067</td>\n",
       "    </tr>\n",
       "    <tr>\n",
       "      <th>Proposed Case Energy Consumption</th>\n",
       "      <td>4655.001295</td>\n",
       "      <td>6437.848101</td>\n",
       "    </tr>\n",
       "    <tr>\n",
       "      <th>Annual Energy Savings</th>\n",
       "      <td>4530.946772</td>\n",
       "      <td>2748.099966</td>\n",
       "    </tr>\n",
       "    <tr>\n",
       "      <th>Base Case Emission</th>\n",
       "      <td>4133.67663</td>\n",
       "      <td>4133.67663</td>\n",
       "    </tr>\n",
       "    <tr>\n",
       "      <th>Proposed Case Emission</th>\n",
       "      <td>2094.750583</td>\n",
       "      <td>2897.031645</td>\n",
       "    </tr>\n",
       "    <tr>\n",
       "      <th>Ghg Reduction</th>\n",
       "      <td>2038.926047</td>\n",
       "      <td>1236.644985</td>\n",
       "    </tr>\n",
       "    <tr>\n",
       "      <th>Ghg Reduction Percent</th>\n",
       "      <td>0.493248</td>\n",
       "      <td>0.299163</td>\n",
       "    </tr>\n",
       "  </tbody>\n",
       "</table>\n",
       "</div>"
      ],
      "text/plain": [
       "                                          Vsd     Impeller\n",
       "Pump Tag                           570-P-2900   570-P-2900\n",
       "Rated Flowrate                            638          638\n",
       "Selected Speed Variation            89% - 78%    89% - 89%\n",
       "Base Case Energy Consumption      9185.948067  9185.948067\n",
       "Proposed Case Energy Consumption  4655.001295  6437.848101\n",
       "Annual Energy Savings             4530.946772  2748.099966\n",
       "Base Case Emission                 4133.67663   4133.67663\n",
       "Proposed Case Emission            2094.750583  2897.031645\n",
       "Ghg Reduction                     2038.926047  1236.644985\n",
       "Ghg Reduction Percent                0.493248     0.299163"
      ]
     },
     "execution_count": 15,
     "metadata": {},
     "output_type": "execute_result"
    }
   ],
   "source": [
    "p1.dfsummary\n"
   ]
  },
  {
   "cell_type": "code",
   "execution_count": 16,
   "metadata": {},
   "outputs": [
    {
     "data": {
      "text/html": [
       "<div>\n",
       "<style scoped>\n",
       "    .dataframe tbody tr th:only-of-type {\n",
       "        vertical-align: middle;\n",
       "    }\n",
       "\n",
       "    .dataframe tbody tr th {\n",
       "        vertical-align: top;\n",
       "    }\n",
       "\n",
       "    .dataframe thead th {\n",
       "        text-align: right;\n",
       "    }\n",
       "</style>\n",
       "<table border=\"1\" class=\"dataframe\">\n",
       "  <thead>\n",
       "    <tr style=\"text-align: right;\">\n",
       "      <th></th>\n",
       "      <th>Flowrate Percent</th>\n",
       "      <th>Suction Pressure</th>\n",
       "      <th>Discharge Pressure</th>\n",
       "      <th>Discharge Flowrate</th>\n",
       "      <th>Cv Opening</th>\n",
       "      <th>Downstream Pressure</th>\n",
       "      <th>Power Factor</th>\n",
       "      <th>Motor Power</th>\n",
       "      <th>Run Status</th>\n",
       "      <th>Speed</th>\n",
       "      <th>...</th>\n",
       "      <th>Selected Speed Variation</th>\n",
       "      <th>Base Case Energy Consumption</th>\n",
       "      <th>New Pump Efficiency</th>\n",
       "      <th>New Motor Efficiency</th>\n",
       "      <th>Proposed Case Energy Consumption</th>\n",
       "      <th>Annual Energy Savings</th>\n",
       "      <th>Base Case Emission</th>\n",
       "      <th>Proposed Case Emission</th>\n",
       "      <th>Ghg Reduction</th>\n",
       "      <th>Ghg Reduction Percent</th>\n",
       "    </tr>\n",
       "  </thead>\n",
       "  <tbody>\n",
       "    <tr>\n",
       "      <th>0</th>\n",
       "      <td>0.50</td>\n",
       "      <td>12.506034</td>\n",
       "      <td>65.872253</td>\n",
       "      <td>326.091171</td>\n",
       "      <td>30.631132</td>\n",
       "      <td>30.568837</td>\n",
       "      <td>0.92</td>\n",
       "      <td>812.743314</td>\n",
       "      <td>1.870019</td>\n",
       "      <td>2810.066115</td>\n",
       "      <td>...</td>\n",
       "      <td>0.888258</td>\n",
       "      <td>42.533110</td>\n",
       "      <td>0.570616</td>\n",
       "      <td>0.9</td>\n",
       "      <td>29.808758</td>\n",
       "      <td>12.724352</td>\n",
       "      <td>19.139900</td>\n",
       "      <td>13.413941</td>\n",
       "      <td>5.725959</td>\n",
       "      <td>0.299163</td>\n",
       "    </tr>\n",
       "    <tr>\n",
       "      <th>1</th>\n",
       "      <td>0.55</td>\n",
       "      <td>11.268247</td>\n",
       "      <td>67.030736</td>\n",
       "      <td>357.949877</td>\n",
       "      <td>35.963229</td>\n",
       "      <td>32.673659</td>\n",
       "      <td>0.92</td>\n",
       "      <td>877.915146</td>\n",
       "      <td>1.991425</td>\n",
       "      <td>2950.447769</td>\n",
       "      <td>...</td>\n",
       "      <td>0.888258</td>\n",
       "      <td>322.448150</td>\n",
       "      <td>0.605436</td>\n",
       "      <td>0.9</td>\n",
       "      <td>225.983447</td>\n",
       "      <td>96.464703</td>\n",
       "      <td>145.101667</td>\n",
       "      <td>101.692551</td>\n",
       "      <td>43.409116</td>\n",
       "      <td>0.299163</td>\n",
       "    </tr>\n",
       "    <tr>\n",
       "      <th>2</th>\n",
       "      <td>0.60</td>\n",
       "      <td>10.916458</td>\n",
       "      <td>66.172950</td>\n",
       "      <td>392.571872</td>\n",
       "      <td>31.822346</td>\n",
       "      <td>31.427844</td>\n",
       "      <td>0.92</td>\n",
       "      <td>928.613952</td>\n",
       "      <td>0.403714</td>\n",
       "      <td>2963.228436</td>\n",
       "      <td>...</td>\n",
       "      <td>0.888258</td>\n",
       "      <td>7567.240111</td>\n",
       "      <td>0.638939</td>\n",
       "      <td>0.9</td>\n",
       "      <td>5303.398411</td>\n",
       "      <td>2263.841701</td>\n",
       "      <td>3405.258050</td>\n",
       "      <td>2386.529285</td>\n",
       "      <td>1018.728765</td>\n",
       "      <td>0.299163</td>\n",
       "    </tr>\n",
       "    <tr>\n",
       "      <th>3</th>\n",
       "      <td>0.65</td>\n",
       "      <td>12.823774</td>\n",
       "      <td>67.659558</td>\n",
       "      <td>408.876968</td>\n",
       "      <td>45.832585</td>\n",
       "      <td>36.740908</td>\n",
       "      <td>0.92</td>\n",
       "      <td>937.078920</td>\n",
       "      <td>1.486546</td>\n",
       "      <td>2971.728751</td>\n",
       "      <td>...</td>\n",
       "      <td>0.888258</td>\n",
       "      <td>1010.291243</td>\n",
       "      <td>0.653074</td>\n",
       "      <td>0.9</td>\n",
       "      <td>708.049024</td>\n",
       "      <td>302.242219</td>\n",
       "      <td>454.631059</td>\n",
       "      <td>318.622061</td>\n",
       "      <td>136.008999</td>\n",
       "      <td>0.299163</td>\n",
       "    </tr>\n",
       "    <tr>\n",
       "      <th>4</th>\n",
       "      <td>0.70</td>\n",
       "      <td>11.052414</td>\n",
       "      <td>65.278343</td>\n",
       "      <td>444.296517</td>\n",
       "      <td>59.592725</td>\n",
       "      <td>41.362577</td>\n",
       "      <td>0.92</td>\n",
       "      <td>977.968075</td>\n",
       "      <td>1.999877</td>\n",
       "      <td>2972.865754</td>\n",
       "      <td>...</td>\n",
       "      <td>0.888258</td>\n",
       "      <td>173.892791</td>\n",
       "      <td>0.680698</td>\n",
       "      <td>0.9</td>\n",
       "      <td>121.870423</td>\n",
       "      <td>52.022368</td>\n",
       "      <td>78.251756</td>\n",
       "      <td>54.841690</td>\n",
       "      <td>23.410066</td>\n",
       "      <td>0.299163</td>\n",
       "    </tr>\n",
       "    <tr>\n",
       "      <th>5</th>\n",
       "      <td>0.75</td>\n",
       "      <td>10.199714</td>\n",
       "      <td>63.337880</td>\n",
       "      <td>472.632587</td>\n",
       "      <td>70.200767</td>\n",
       "      <td>43.480691</td>\n",
       "      <td>0.92</td>\n",
       "      <td>1004.457391</td>\n",
       "      <td>2.000000</td>\n",
       "      <td>2975.349621</td>\n",
       "      <td>...</td>\n",
       "      <td>0.888258</td>\n",
       "      <td>69.542662</td>\n",
       "      <td>0.699508</td>\n",
       "      <td>0.9</td>\n",
       "      <td>48.738039</td>\n",
       "      <td>20.804623</td>\n",
       "      <td>31.294198</td>\n",
       "      <td>21.932117</td>\n",
       "      <td>9.362080</td>\n",
       "      <td>0.299163</td>\n",
       "    </tr>\n",
       "  </tbody>\n",
       "</table>\n",
       "<p>6 rows × 36 columns</p>\n",
       "</div>"
      ],
      "text/plain": [
       "  Flowrate Percent  Suction Pressure  Discharge Pressure  Discharge Flowrate  \\\n",
       "0             0.50         12.506034           65.872253          326.091171   \n",
       "1             0.55         11.268247           67.030736          357.949877   \n",
       "2             0.60         10.916458           66.172950          392.571872   \n",
       "3             0.65         12.823774           67.659558          408.876968   \n",
       "4             0.70         11.052414           65.278343          444.296517   \n",
       "5             0.75         10.199714           63.337880          472.632587   \n",
       "\n",
       "   Cv Opening  Downstream Pressure  Power Factor  Motor Power  Run Status  \\\n",
       "0   30.631132            30.568837          0.92   812.743314    1.870019   \n",
       "1   35.963229            32.673659          0.92   877.915146    1.991425   \n",
       "2   31.822346            31.427844          0.92   928.613952    0.403714   \n",
       "3   45.832585            36.740908          0.92   937.078920    1.486546   \n",
       "4   59.592725            41.362577          0.92   977.968075    1.999877   \n",
       "5   70.200767            43.480691          0.92  1004.457391    2.000000   \n",
       "\n",
       "         Speed  ...  Selected Speed Variation  Base Case Energy Consumption  \\\n",
       "0  2810.066115  ...                  0.888258                     42.533110   \n",
       "1  2950.447769  ...                  0.888258                    322.448150   \n",
       "2  2963.228436  ...                  0.888258                   7567.240111   \n",
       "3  2971.728751  ...                  0.888258                   1010.291243   \n",
       "4  2972.865754  ...                  0.888258                    173.892791   \n",
       "5  2975.349621  ...                  0.888258                     69.542662   \n",
       "\n",
       "   New Pump Efficiency  New Motor Efficiency  \\\n",
       "0             0.570616                   0.9   \n",
       "1             0.605436                   0.9   \n",
       "2             0.638939                   0.9   \n",
       "3             0.653074                   0.9   \n",
       "4             0.680698                   0.9   \n",
       "5             0.699508                   0.9   \n",
       "\n",
       "   Proposed Case Energy Consumption  Annual Energy Savings  \\\n",
       "0                         29.808758              12.724352   \n",
       "1                        225.983447              96.464703   \n",
       "2                       5303.398411            2263.841701   \n",
       "3                        708.049024             302.242219   \n",
       "4                        121.870423              52.022368   \n",
       "5                         48.738039              20.804623   \n",
       "\n",
       "   Base Case Emission  Proposed Case Emission  Ghg Reduction  \\\n",
       "0           19.139900               13.413941       5.725959   \n",
       "1          145.101667              101.692551      43.409116   \n",
       "2         3405.258050             2386.529285    1018.728765   \n",
       "3          454.631059              318.622061     136.008999   \n",
       "4           78.251756               54.841690      23.410066   \n",
       "5           31.294198               21.932117       9.362080   \n",
       "\n",
       "   Ghg Reduction Percent  \n",
       "0               0.299163  \n",
       "1               0.299163  \n",
       "2               0.299163  \n",
       "3               0.299163  \n",
       "4               0.299163  \n",
       "5               0.299163  \n",
       "\n",
       "[6 rows x 36 columns]"
      ]
     },
     "execution_count": 16,
     "metadata": {},
     "output_type": "execute_result"
    }
   ],
   "source": [
    "p1.VSDCalculation\n"
   ]
  },
  {
   "cell_type": "code",
   "execution_count": 24,
   "metadata": {},
   "outputs": [
    {
     "data": {
      "text/html": [
       "<div>\n",
       "<style scoped>\n",
       "    .dataframe tbody tr th:only-of-type {\n",
       "        vertical-align: middle;\n",
       "    }\n",
       "\n",
       "    .dataframe tbody tr th {\n",
       "        vertical-align: top;\n",
       "    }\n",
       "\n",
       "    .dataframe thead th {\n",
       "        text-align: right;\n",
       "    }\n",
       "</style>\n",
       "<table border=\"1\" class=\"dataframe\">\n",
       "  <thead>\n",
       "    <tr style=\"text-align: right;\">\n",
       "      <th></th>\n",
       "      <th>Flowrate Percent</th>\n",
       "      <th>Suction Pressure</th>\n",
       "      <th>Discharge Pressure</th>\n",
       "      <th>Discharge Flowrate</th>\n",
       "      <th>Cv Opening</th>\n",
       "      <th>Downstream Pressure</th>\n",
       "      <th>Power Factor</th>\n",
       "      <th>Motor Power</th>\n",
       "      <th>Run Status</th>\n",
       "      <th>Speed</th>\n",
       "      <th>...</th>\n",
       "      <th>Selected Speed Variation</th>\n",
       "      <th>Base Case Energy Consumption</th>\n",
       "      <th>New Pump Efficiency</th>\n",
       "      <th>New Motor Efficiency</th>\n",
       "      <th>Proposed Case Energy Consumption</th>\n",
       "      <th>Annual Energy Savings</th>\n",
       "      <th>Base Case Emission</th>\n",
       "      <th>Proposed Case Emission</th>\n",
       "      <th>Ghg Reduction</th>\n",
       "      <th>Ghg Reduction Percent</th>\n",
       "    </tr>\n",
       "  </thead>\n",
       "  <tbody>\n",
       "    <tr>\n",
       "      <th>0</th>\n",
       "      <td>0.50</td>\n",
       "      <td>12.506034</td>\n",
       "      <td>65.872253</td>\n",
       "      <td>326.091171</td>\n",
       "      <td>30.631132</td>\n",
       "      <td>30.568837</td>\n",
       "      <td>0.92</td>\n",
       "      <td>812.743314</td>\n",
       "      <td>1.870019</td>\n",
       "      <td>2810.066115</td>\n",
       "      <td>...</td>\n",
       "      <td>0.888258</td>\n",
       "      <td>42.533110</td>\n",
       "      <td>0.570616</td>\n",
       "      <td>0.9</td>\n",
       "      <td>29.808758</td>\n",
       "      <td>12.724352</td>\n",
       "      <td>19.139900</td>\n",
       "      <td>13.413941</td>\n",
       "      <td>5.725959</td>\n",
       "      <td>0.299163</td>\n",
       "    </tr>\n",
       "    <tr>\n",
       "      <th>1</th>\n",
       "      <td>0.55</td>\n",
       "      <td>11.268247</td>\n",
       "      <td>67.030736</td>\n",
       "      <td>357.949877</td>\n",
       "      <td>35.963229</td>\n",
       "      <td>32.673659</td>\n",
       "      <td>0.92</td>\n",
       "      <td>877.915146</td>\n",
       "      <td>1.991425</td>\n",
       "      <td>2950.447769</td>\n",
       "      <td>...</td>\n",
       "      <td>0.888258</td>\n",
       "      <td>322.448150</td>\n",
       "      <td>0.605436</td>\n",
       "      <td>0.9</td>\n",
       "      <td>225.983447</td>\n",
       "      <td>96.464703</td>\n",
       "      <td>145.101667</td>\n",
       "      <td>101.692551</td>\n",
       "      <td>43.409116</td>\n",
       "      <td>0.299163</td>\n",
       "    </tr>\n",
       "    <tr>\n",
       "      <th>2</th>\n",
       "      <td>0.60</td>\n",
       "      <td>10.916458</td>\n",
       "      <td>66.172950</td>\n",
       "      <td>392.571872</td>\n",
       "      <td>31.822346</td>\n",
       "      <td>31.427844</td>\n",
       "      <td>0.92</td>\n",
       "      <td>928.613952</td>\n",
       "      <td>0.403714</td>\n",
       "      <td>2963.228436</td>\n",
       "      <td>...</td>\n",
       "      <td>0.888258</td>\n",
       "      <td>7567.240111</td>\n",
       "      <td>0.638939</td>\n",
       "      <td>0.9</td>\n",
       "      <td>5303.398411</td>\n",
       "      <td>2263.841701</td>\n",
       "      <td>3405.258050</td>\n",
       "      <td>2386.529285</td>\n",
       "      <td>1018.728765</td>\n",
       "      <td>0.299163</td>\n",
       "    </tr>\n",
       "    <tr>\n",
       "      <th>3</th>\n",
       "      <td>0.65</td>\n",
       "      <td>12.823774</td>\n",
       "      <td>67.659558</td>\n",
       "      <td>408.876968</td>\n",
       "      <td>45.832585</td>\n",
       "      <td>36.740908</td>\n",
       "      <td>0.92</td>\n",
       "      <td>937.078920</td>\n",
       "      <td>1.486546</td>\n",
       "      <td>2971.728751</td>\n",
       "      <td>...</td>\n",
       "      <td>0.888258</td>\n",
       "      <td>1010.291243</td>\n",
       "      <td>0.653074</td>\n",
       "      <td>0.9</td>\n",
       "      <td>708.049024</td>\n",
       "      <td>302.242219</td>\n",
       "      <td>454.631059</td>\n",
       "      <td>318.622061</td>\n",
       "      <td>136.008999</td>\n",
       "      <td>0.299163</td>\n",
       "    </tr>\n",
       "    <tr>\n",
       "      <th>4</th>\n",
       "      <td>0.70</td>\n",
       "      <td>11.052414</td>\n",
       "      <td>65.278343</td>\n",
       "      <td>444.296517</td>\n",
       "      <td>59.592725</td>\n",
       "      <td>41.362577</td>\n",
       "      <td>0.92</td>\n",
       "      <td>977.968075</td>\n",
       "      <td>1.999877</td>\n",
       "      <td>2972.865754</td>\n",
       "      <td>...</td>\n",
       "      <td>0.888258</td>\n",
       "      <td>173.892791</td>\n",
       "      <td>0.680698</td>\n",
       "      <td>0.9</td>\n",
       "      <td>121.870423</td>\n",
       "      <td>52.022368</td>\n",
       "      <td>78.251756</td>\n",
       "      <td>54.841690</td>\n",
       "      <td>23.410066</td>\n",
       "      <td>0.299163</td>\n",
       "    </tr>\n",
       "    <tr>\n",
       "      <th>5</th>\n",
       "      <td>0.75</td>\n",
       "      <td>10.199714</td>\n",
       "      <td>63.337880</td>\n",
       "      <td>472.632587</td>\n",
       "      <td>70.200767</td>\n",
       "      <td>43.480691</td>\n",
       "      <td>0.92</td>\n",
       "      <td>1004.457391</td>\n",
       "      <td>2.000000</td>\n",
       "      <td>2975.349621</td>\n",
       "      <td>...</td>\n",
       "      <td>0.888258</td>\n",
       "      <td>69.542662</td>\n",
       "      <td>0.699508</td>\n",
       "      <td>0.9</td>\n",
       "      <td>48.738039</td>\n",
       "      <td>20.804623</td>\n",
       "      <td>31.294198</td>\n",
       "      <td>21.932117</td>\n",
       "      <td>9.362080</td>\n",
       "      <td>0.299163</td>\n",
       "    </tr>\n",
       "  </tbody>\n",
       "</table>\n",
       "<p>6 rows × 36 columns</p>\n",
       "</div>"
      ],
      "text/plain": [
       "  Flowrate Percent  Suction Pressure  Discharge Pressure  Discharge Flowrate  \\\n",
       "0             0.50         12.506034           65.872253          326.091171   \n",
       "1             0.55         11.268247           67.030736          357.949877   \n",
       "2             0.60         10.916458           66.172950          392.571872   \n",
       "3             0.65         12.823774           67.659558          408.876968   \n",
       "4             0.70         11.052414           65.278343          444.296517   \n",
       "5             0.75         10.199714           63.337880          472.632587   \n",
       "\n",
       "   Cv Opening  Downstream Pressure  Power Factor  Motor Power  Run Status  \\\n",
       "0   30.631132            30.568837          0.92   812.743314    1.870019   \n",
       "1   35.963229            32.673659          0.92   877.915146    1.991425   \n",
       "2   31.822346            31.427844          0.92   928.613952    0.403714   \n",
       "3   45.832585            36.740908          0.92   937.078920    1.486546   \n",
       "4   59.592725            41.362577          0.92   977.968075    1.999877   \n",
       "5   70.200767            43.480691          0.92  1004.457391    2.000000   \n",
       "\n",
       "         Speed  ...  Selected Speed Variation  Base Case Energy Consumption  \\\n",
       "0  2810.066115  ...                  0.888258                     42.533110   \n",
       "1  2950.447769  ...                  0.888258                    322.448150   \n",
       "2  2963.228436  ...                  0.888258                   7567.240111   \n",
       "3  2971.728751  ...                  0.888258                   1010.291243   \n",
       "4  2972.865754  ...                  0.888258                    173.892791   \n",
       "5  2975.349621  ...                  0.888258                     69.542662   \n",
       "\n",
       "   New Pump Efficiency  New Motor Efficiency  \\\n",
       "0             0.570616                   0.9   \n",
       "1             0.605436                   0.9   \n",
       "2             0.638939                   0.9   \n",
       "3             0.653074                   0.9   \n",
       "4             0.680698                   0.9   \n",
       "5             0.699508                   0.9   \n",
       "\n",
       "   Proposed Case Energy Consumption  Annual Energy Savings  \\\n",
       "0                         29.808758              12.724352   \n",
       "1                        225.983447              96.464703   \n",
       "2                       5303.398411            2263.841701   \n",
       "3                        708.049024             302.242219   \n",
       "4                        121.870423              52.022368   \n",
       "5                         48.738039              20.804623   \n",
       "\n",
       "   Base Case Emission  Proposed Case Emission  Ghg Reduction  \\\n",
       "0           19.139900               13.413941       5.725959   \n",
       "1          145.101667              101.692551      43.409116   \n",
       "2         3405.258050             2386.529285    1018.728765   \n",
       "3          454.631059              318.622061     136.008999   \n",
       "4           78.251756               54.841690      23.410066   \n",
       "5           31.294198               21.932117       9.362080   \n",
       "\n",
       "   Ghg Reduction Percent  \n",
       "0               0.299163  \n",
       "1               0.299163  \n",
       "2               0.299163  \n",
       "3               0.299163  \n",
       "4               0.299163  \n",
       "5               0.299163  \n",
       "\n",
       "[6 rows x 36 columns]"
      ]
     },
     "execution_count": 24,
     "metadata": {},
     "output_type": "execute_result"
    }
   ],
   "source": [
    "p1.ImpellerCalculation\n"
   ]
  },
  {
   "cell_type": "code",
   "execution_count": 18,
   "metadata": {},
   "outputs": [],
   "source": [
    "output_file = Path(r\"Output/UL/570-P-2900.xlsx\")"
   ]
  },
  {
   "cell_type": "code",
   "execution_count": 19,
   "metadata": {},
   "outputs": [],
   "source": [
    "import xlwings as xw\n",
    "\n",
    "wb = xw.Book(output_file)\n",
    "ws = wb.sheets[2]\n",
    "ws.clear_contents()"
   ]
  },
  {
   "cell_type": "code",
   "execution_count": 20,
   "metadata": {},
   "outputs": [],
   "source": [
    "ws.range(\"A1\").value = p1.VSDCalculation\n"
   ]
  },
  {
   "cell_type": "code",
   "execution_count": 21,
   "metadata": {},
   "outputs": [],
   "source": [
    "ws.range(\"A15\").value = p1.ImpellerCalculation\n"
   ]
  },
  {
   "cell_type": "code",
   "execution_count": 22,
   "metadata": {},
   "outputs": [],
   "source": [
    "ws.range(\"A29\").value = p1.dfsummary\n"
   ]
  }
 ],
 "metadata": {
  "kernelspec": {
   "display_name": ".venv",
   "language": "python",
   "name": "python3"
  },
  "language_info": {
   "codemirror_mode": {
    "name": "ipython",
    "version": 3
   },
   "file_extension": ".py",
   "mimetype": "text/x-python",
   "name": "python",
   "nbconvert_exporter": "python",
   "pygments_lexer": "ipython3",
   "version": "3.11.1"
  },
  "orig_nbformat": 4
 },
 "nbformat": 4,
 "nbformat_minor": 2
}
